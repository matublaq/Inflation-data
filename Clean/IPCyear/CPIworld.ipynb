{
 "cells": [
  {
   "cell_type": "code",
   "execution_count": null,
   "metadata": {},
   "outputs": [],
   "source": [
    "import numpy as np\n",
    "import pandas as pd\n",
    "##### WEB scriping #####\n",
    "import requests\n",
    "from bs4 import BeautifulSoup\n",
    "########################\n",
    "from datetime import datetime, date, timedelta\n",
    "from googletrans import Translator "
   ]
  },
  {
   "attachments": {},
   "cell_type": "markdown",
   "metadata": {},
   "source": [
    "<font style=\"font-size: 80px\"><font color=\"yellow\">C</font>onsume <font color=\"yellow\">P</font>roduct <font color=\"yellow\">I</font>ndex (<font color=\"yellow\">CPI</font>)</font>"
   ]
  },
  {
   "cell_type": "code",
   "execution_count": null,
   "metadata": {},
   "outputs": [],
   "source": [
    "CPIworld = pd.read_csv(r\"C:\\Users\\matia\\OneDrive\\Documentos\\Proyectos\\Data proyect\\CSV crudo\\CPIworld.csv\")\n",
    "CPIworld"
   ]
  },
  {
   "attachments": {},
   "cell_type": "markdown",
   "metadata": {},
   "source": [
    "### Columns title"
   ]
  },
  {
   "cell_type": "code",
   "execution_count": null,
   "metadata": {},
   "outputs": [],
   "source": [
    "CPIworld.drop(columns=[\"Indicator Name\", \"Indicator Code\", \"Unnamed: 66\"], inplace=True)\n",
    "CPIworld.rename(columns={\"Country Name\":\"Country\", \"Country Code\":\"Code\"}, inplace=True)\n",
    "CPIworld"
   ]
  },
  {
   "cell_type": "code",
   "execution_count": null,
   "metadata": {},
   "outputs": [],
   "source": [
    "country_check = {}\n",
    "for i in CPIworld[\"Country\"]:\n",
    "    if country_check.get(i):\n",
    "        country_check[i] += 1\n",
    "    else:\n",
    "        country_check[i] = 1\n",
    "        \n",
    "country_repeat = {k: v for k, v in country_check.items() if(v>=2)}\n",
    "country_repeat"
   ]
  },
  {
   "cell_type": "code",
   "execution_count": null,
   "metadata": {},
   "outputs": [],
   "source": [
    "CPIworld.info()"
   ]
  },
  {
   "attachments": {},
   "cell_type": "markdown",
   "metadata": {},
   "source": [
    "### <font style=\"font-style:italic \"><font color=\"#6CACE4\">This data-set</font> <font color=\"white\">not have Argentina</font> <font color=\"yellow\">data.That</font> <font color=\"white\">is my country</font> <font color=\"#6CACE4\">where I born.</font></font> <font style=\"font-size:15px\">(WEB scriping)</font>"
   ]
  },
  {
   "cell_type": "code",
   "execution_count": null,
   "metadata": {},
   "outputs": [],
   "source": [
    "print(CPIworld[CPIworld[\"Country\"] == \"Argentina\"].iloc[:, 2:].isna().any().value_counts(normalize=True)) #False = 0 => All is nan\n",
    "CPIworld.drop(index=CPIworld[CPIworld[\"Country\"] == \"Argentina\" ].index.values, inplace=True)"
   ]
  },
  {
   "attachments": {},
   "cell_type": "markdown",
   "metadata": {},
   "source": [
    "##### WEB scriping"
   ]
  },
  {
   "cell_type": "code",
   "execution_count": null,
   "metadata": {},
   "outputs": [],
   "source": [
    "url = \"https://www.datosmundial.com/america/argentina/inflacion.php\"\n",
    "page = requests.get(url)\n",
    "soup = BeautifulSoup(page.text, 'html.parser')\n",
    "\n",
    "tr_items = soup.find_all('td')"
   ]
  },
  {
   "cell_type": "code",
   "execution_count": null,
   "metadata": {},
   "outputs": [],
   "source": [
    "Argentina_inflation = {}\n",
    "count_year = 0\n",
    "count_Argentina = 1\n",
    "\n",
    "for td in tr_items:\n",
    "    if(count_year == 0):\n",
    "        actual_year = td.text\n",
    "        count_year = 5\n",
    "\n",
    "    elif(count_Argentina == 0):\n",
    "        Argentina_inflation[actual_year] = td.text\n",
    "        count_Argentina = 5\n",
    "\n",
    "    count_year -= 1\n",
    "    count_Argentina -= 1\n",
    "\n",
    "Argentina_inflation"
   ]
  },
  {
   "cell_type": "code",
   "execution_count": null,
   "metadata": {},
   "outputs": [],
   "source": [
    "dict_aux = {}\n",
    "for key, value in Argentina_inflation.items():\n",
    "    dict_aux[key] = float(value.split(\"%\")[0].replace(\".\", \"\").replace(\",\", \".\"))   #How to change \"2.313,98\"\n",
    "\n",
    "del dict_aux[\"2022\"]\n",
    "dict_aux"
   ]
  },
  {
   "cell_type": "code",
   "execution_count": null,
   "metadata": {},
   "outputs": [],
   "source": [
    "addRow = pd.DataFrame([dict_aux])\n",
    "addRow = addRow.assign(Country=\"Argentina\", Code=\"ARG\")\n",
    "print(CPIworld.info())\n",
    "print(addRow.info())\n",
    "\n",
    "df_test =pd.concat([CPIworld, addRow], ignore_index=True)\n",
    "#******\n",
    "false_data = df_test[df_test[\"Country\"] == \"Argentina\"].iloc[:, 22:].isna().any()\n",
    "print(\"No data years: \", false_data.index[false_data].values)\n",
    "#******\n",
    "CPIworld = df_test"
   ]
  },
  {
   "cell_type": "code",
   "execution_count": null,
   "metadata": {},
   "outputs": [],
   "source": [
    "CPIworld"
   ]
  },
  {
   "cell_type": "code",
   "execution_count": null,
   "metadata": {},
   "outputs": [],
   "source": [
    "int(CPIworld[CPIworld[\"Country\"] == \"Argentina\"].index.values)"
   ]
  },
  {
   "attachments": {},
   "cell_type": "markdown",
   "metadata": {},
   "source": [
    "### NaN content"
   ]
  },
  {
   "cell_type": "code",
   "execution_count": null,
   "metadata": {},
   "outputs": [],
   "source": [
    "dataDelete = CPIworld[CPIworld[\"Country\"].isna()==True]\n",
    "print(dataDelete.iloc[:, :2], \"\\n\", dataDelete.index)\n",
    "CPIworld.drop(index=dataDelete.index, inplace=True) #index=[1, 3]\n",
    "CPIworld.reset_index(inplace=True, drop=True)"
   ]
  },
  {
   "cell_type": "code",
   "execution_count": null,
   "metadata": {},
   "outputs": [],
   "source": [
    "noData = []\n",
    "for i in CPIworld[\"Country\"]:\n",
    "    rowSelected = CPIworld[CPIworld[\"Country\"] == i]\n",
    "    \n",
    "    if(rowSelected.iloc[:, 2:].isna().any().any()):\n",
    "        TrueCount = rowSelected.iloc[:, 2:].isna().any().value_counts(normalize=True)[True]\n",
    "        print(rowSelected.index.values, i, \"have a\", (TrueCount*100).round(2), \"%\", \"NaN values\")\n",
    "        if(TrueCount == 1):\n",
    "            noData.append(int(rowSelected.index.values))\n",
    "        else:\n",
    "            pass\n",
    "    else:\n",
    "        pass\n",
    "print(len(noData), noData)\n",
    "\n",
    "CPIworld.drop(index=noData, inplace=True)\n",
    "CPIworld.reset_index(inplace=True, drop=True)\n",
    "CPIworld"
   ]
  },
  {
   "cell_type": "code",
   "execution_count": null,
   "metadata": {},
   "outputs": [],
   "source": [
    "nanCountry = {}\n",
    "\n",
    "for i in CPIworld[\"Country\"]:\n",
    "    nanCountry[i] = CPIworld[CPIworld[\"Country\"] == i].iloc[:, 2:].isna().any().value_counts(normalize=True)[False]\n",
    "    nanCountry[i] *= 100\n",
    "\n",
    "nanCountryOrder = dict(sorted(nanCountry.items(), key=lambda items: items[1], reverse=True))\n",
    "nanCountryOrder"
   ]
  },
  {
   "attachments": {},
   "cell_type": "markdown",
   "metadata": {},
   "source": [
    "### Order information"
   ]
  },
  {
   "cell_type": "code",
   "execution_count": null,
   "metadata": {},
   "outputs": [],
   "source": [
    "auxDataframe = pd.DataFrame(columns=CPIworld.columns)\n",
    "print(auxDataframe)\n",
    "\n",
    "\n",
    "for i, u in zip(nanCountryOrder, range(len(nanCountryOrder))):\n",
    "    rowAdd = {x:np.nan for x in CPIworld.columns}\n",
    "    rowSelected = CPIworld[CPIworld[\"Country\"] == i]\n",
    "\n",
    "    for w in auxDataframe.columns:\n",
    "        rowAdd[w] = rowSelected[w].values[0]\n",
    "    \n",
    "    new_df = pd.DataFrame([rowAdd])\n",
    "    auxDataframe = pd.concat([auxDataframe, new_df], ignore_index=True)\n",
    "    \n",
    "CPIworld = auxDataframe\n",
    "CPIworld = CPIworld.round(2)\n",
    "CPIworld"
   ]
  },
  {
   "attachments": {},
   "cell_type": "markdown",
   "metadata": {},
   "source": [
    "### <font color=\"orange\">Countrys that need more data</font>"
   ]
  },
  {
   "cell_type": "code",
   "execution_count": null,
   "metadata": {},
   "outputs": [],
   "source": [
    "CPIworld_extra = pd.DataFrame()"
   ]
  },
  {
   "cell_type": "code",
   "execution_count": null,
   "metadata": {},
   "outputs": [],
   "source": []
  },
  {
   "attachments": {},
   "cell_type": "markdown",
   "metadata": {},
   "source": [
    "# <font color=\"green\">Save changes</font>"
   ]
  },
  {
   "cell_type": "code",
   "execution_count": null,
   "metadata": {},
   "outputs": [],
   "source": [
    "CPIworld.to_csv(r\"C:\\Users\\matia\\OneDrive\\Documentos\\Proyectos\\Data proyect\\Clean\\IPCyear\\CPIworld.csv\")"
   ]
  },
  {
   "cell_type": "code",
   "execution_count": null,
   "metadata": {},
   "outputs": [],
   "source": [
    "CPIworld[CPIworld[\"Country\"] == \"Mundo\"]"
   ]
  },
  {
   "cell_type": "code",
   "execution_count": null,
   "metadata": {},
   "outputs": [],
   "source": [
    "CPIworld"
   ]
  },
  {
   "cell_type": "code",
   "execution_count": null,
   "metadata": {},
   "outputs": [],
   "source": []
  }
 ],
 "metadata": {
  "kernelspec": {
   "display_name": "Python 3",
   "language": "python",
   "name": "python3"
  },
  "language_info": {
   "codemirror_mode": {
    "name": "ipython",
    "version": 3
   },
   "file_extension": ".py",
   "mimetype": "text/x-python",
   "name": "python",
   "nbconvert_exporter": "python",
   "pygments_lexer": "ipython3",
   "version": "3.11.3"
  },
  "orig_nbformat": 4
 },
 "nbformat": 4,
 "nbformat_minor": 2
}
